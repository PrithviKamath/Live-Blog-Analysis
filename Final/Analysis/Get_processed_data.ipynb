{
 "cells": [
  {
   "cell_type": "code",
   "execution_count": null,
   "metadata": {
    "collapsed": false
   },
   "outputs": [],
   "source": [
    "import pip\n",
    "def install(package):\n",
    "   pip.main(['install', package])\n",
    "\n",
    "install('BeautifulSoup4')\n",
    "install('webhoseio')\n",
    "install('textblob')\n",
    "install('nltk')"
   ]
  },
  {
   "cell_type": "code",
   "execution_count": null,
   "metadata": {
    "collapsed": true
   },
   "outputs": [],
   "source": [
    "#importing required packages\n",
    "import webhoseio\n",
    "import requests\n",
    "import numpy as np\n",
    "import pandas as pd\n",
    "import json\n",
    "import os\n",
    "import time\n",
    "import datetime"
   ]
  },
  {
   "cell_type": "code",
   "execution_count": null,
   "metadata": {
    "collapsed": false
   },
   "outputs": [],
   "source": [
    "completedf=pd.DataFrame()"
   ]
  },
  {
   "cell_type": "code",
   "execution_count": null,
   "metadata": {
    "collapsed": false
   },
   "outputs": [],
   "source": [
    "#getting current working directory\n",
    "current_directory=os.getcwd()\n",
    "root_directory=os.path.abspath(os.path.join(current_directory, os.pardir)) #To get the parent directory of current directory\n",
    "#parent_directory=os.path.abspath(os.path.join(root_directory, os.pardir))\n",
    "print(root_directory)"
   ]
  },
  {
   "cell_type": "code",
   "execution_count": null,
   "metadata": {
    "collapsed": true
   },
   "outputs": [],
   "source": [
    "path=root_directory+\"/Data/Input Data/\""
   ]
  },
  {
   "cell_type": "code",
   "execution_count": null,
   "metadata": {
    "collapsed": false
   },
   "outputs": [],
   "source": [
    "#Reading all input JSON files and storing in 'completedf' DataFrame\n",
    "for directory, subdirectory, filenames in os.walk(path):\n",
    "    for filename in filenames:\n",
    "        with open(os.path.join(directory, filename), \"r\") as f:\n",
    "            df=pd.read_json(f)\n",
    "            completedf=pd.concat([completedf,df],axis=0)\n",
    "#completedf now has 15 columns"
   ]
  },
  {
   "cell_type": "code",
   "execution_count": null,
   "metadata": {
    "collapsed": false
   },
   "outputs": [],
   "source": [
    "#Appending tags from inner JSON (thread and entities) to completedf DataFrame\n",
    "completedf[\"site_full\"]=completedf[\"thread\"].apply(lambda x: x[\"site_full\"])\n",
    "completedf[\"main_image\"]=completedf[\"thread\"].apply(lambda x: x[\"main_image\"])\n",
    "completedf[\"site_section\"]=completedf[\"thread\"].apply(lambda x: x[\"site_section\"])\n",
    "completedf[\"section_title\"]=completedf[\"thread\"].apply(lambda x: x[\"section_title\"])\n",
    "completedf[\"country\"]=completedf[\"thread\"].apply(lambda x: x[\"country\"])\n",
    "completedf[\"domain_rank\"]=completedf[\"thread\"].apply(lambda x: x[\"domain_rank\"])\n",
    "completedf[\"performance_score\"]=completedf[\"thread\"].apply(lambda x: x[\"performance_score\"])\n",
    "completedf[\"site\"]=completedf[\"thread\"].apply(lambda x: x[\"site\"])\n",
    "completedf[\"participants_count\"]=completedf[\"thread\"].apply(lambda x: x[\"participants_count\"])\n",
    "completedf[\"title_full\"]=completedf[\"thread\"].apply(lambda x: x[\"title_full\"])\n",
    "completedf[\"spam_score\"]=completedf[\"thread\"].apply(lambda x: x[\"spam_score\"])\n",
    "completedf[\"site_type\"]=completedf[\"thread\"].apply(lambda x: x[\"site_type\"])\n",
    "completedf[\"replies_count\"]=completedf[\"thread\"].apply(lambda x: x[\"replies_count\"])\n",
    "\n",
    "completedf[\"persons\"]=completedf[\"entities\"].apply(lambda x: x[\"persons\"])\n",
    "completedf[\"locations\"]=completedf[\"entities\"].apply(lambda x: x[\"locations\"])\n",
    "completedf[\"organizations\"]=completedf[\"entities\"].apply(lambda x: x[\"organizations\"])\n",
    "\n",
    "#complete df now has 31 columns"
   ]
  },
  {
   "cell_type": "code",
   "execution_count": null,
   "metadata": {
    "collapsed": false
   },
   "outputs": [],
   "source": [
    "#Creating processeddf DataFrame by removing redundant columns\n",
    "processeddf = completedf.drop([\"thread\",\"entities\"], 1)\n",
    "#'processeddf' DataFrame has 29 columns"
   ]
  },
  {
   "cell_type": "code",
   "execution_count": null,
   "metadata": {
    "collapsed": true
   },
   "outputs": [],
   "source": [
    "#Finding missing values in processeddf\n",
    "def missing_values_table(df):\n",
    "       mis_val = df.isnull().sum()\n",
    "       mis_val_percent = 100 * df.isnull().sum()/len(df)\n",
    "       mis_val_table = pd.concat([mis_val, mis_val_percent], axis=1)\n",
    "       mis_val_table_ren_columns = mis_val_table.rename(columns = {0 : 'Missing Values', 1 : '% of Total Values'})\n",
    "       return mis_val_table_ren_columns"
   ]
  },
  {
   "cell_type": "code",
   "execution_count": null,
   "metadata": {
    "collapsed": false
   },
   "outputs": [],
   "source": [
    "missing_values_table(processeddf).sort_values(\"Missing Values\",ascending=False).head(10)"
   ]
  },
  {
   "cell_type": "code",
   "execution_count": null,
   "metadata": {
    "collapsed": true
   },
   "outputs": [],
   "source": [
    "processeddf['main_image'] = processeddf['main_image'].fillna('Not Available')"
   ]
  },
  {
   "cell_type": "code",
   "execution_count": null,
   "metadata": {
    "collapsed": false
   },
   "outputs": [],
   "source": [
    "processeddf.replace({'\\n': ' '}, regex=True)"
   ]
  },
  {
   "cell_type": "code",
   "execution_count": null,
   "metadata": {
    "collapsed": true
   },
   "outputs": [],
   "source": [
    "#converting 'published' variable to adtetime format and extracting day and saving it into new variable\n",
    "processeddf[\"published\"]=pd.to_datetime(processeddf['published'])\n",
    "processeddf[\"published_day\"]=processeddf[\"published\"].dt.day"
   ]
  },
  {
   "cell_type": "code",
   "execution_count": null,
   "metadata": {
    "collapsed": true
   },
   "outputs": [],
   "source": [
    "#Check if a directory exists in the path or not;if not create one\n",
    "def dir(file_path,directory_name):\n",
    "    if not os.path.exists(file_path+\"/\"+directory_name):\n",
    "        os.mkdir(file_path+\"/\"+directory_name)\n",
    "    return file_path+\"/\"+directory_name"
   ]
  },
  {
   "cell_type": "code",
   "execution_count": null,
   "metadata": {
    "collapsed": false
   },
   "outputs": [],
   "source": [
    "#final_directory=dir(root_directory,\"Final\") #Create Final folder in root_directory\n",
    "data_directory=dir(root_directory,\"Data\") #Create Data folder in final_directory\n",
    "file_directory=dir(data_directory,\"Processed Data\") #Create Processed Data folder in data_directory"
   ]
  },
  {
   "cell_type": "code",
   "execution_count": null,
   "metadata": {
    "collapsed": false
   },
   "outputs": [],
   "source": [
    "processeddf.to_csv(file_directory+\"/PocessedData.csv\")"
   ]
  },
  {
   "cell_type": "code",
   "execution_count": null,
   "metadata": {
    "collapsed": true
   },
   "outputs": [],
   "source": []
  }
 ],
 "metadata": {
  "anaconda-cloud": {},
  "kernelspec": {
   "display_name": "Python [default]",
   "language": "python",
   "name": "python3"
  },
  "language_info": {
   "codemirror_mode": {
    "name": "ipython",
    "version": 3
   },
   "file_extension": ".py",
   "mimetype": "text/x-python",
   "name": "python",
   "nbconvert_exporter": "python",
   "pygments_lexer": "ipython3",
   "version": "3.5.2"
  }
 },
 "nbformat": 4,
 "nbformat_minor": 1
}
