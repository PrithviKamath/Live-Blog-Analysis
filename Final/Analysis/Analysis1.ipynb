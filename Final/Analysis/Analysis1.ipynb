{
 "cells": [
  {
   "cell_type": "code",
   "execution_count": 1,
   "metadata": {
    "collapsed": false
   },
   "outputs": [
    {
     "name": "stdout",
     "output_type": "stream",
     "text": [
      "Requirement already satisfied: BeautifulSoup4 in c:\\users\\prith\\anaconda3\\lib\\site-packages\n",
      "Requirement already satisfied: webhoseio in c:\\users\\prith\\anaconda3\\lib\\site-packages\n",
      "Requirement already satisfied: requests>=2.0.0 in c:\\users\\prith\\anaconda3\\lib\\site-packages (from webhoseio)\n",
      "Requirement already satisfied: textblob in c:\\users\\prith\\anaconda3\\lib\\site-packages\n",
      "Requirement already satisfied: nltk>=3.1 in c:\\users\\prith\\anaconda3\\lib\\site-packages (from textblob)\n",
      "Requirement already satisfied: six in c:\\users\\prith\\anaconda3\\lib\\site-packages (from nltk>=3.1->textblob)\n",
      "Requirement already satisfied: nltk in c:\\users\\prith\\anaconda3\\lib\\site-packages\n",
      "Requirement already satisfied: six in c:\\users\\prith\\anaconda3\\lib\\site-packages (from nltk)\n"
     ]
    }
   ],
   "source": [
    "import pip\n",
    "def install(package):\n",
    "   pip.main(['install', package])\n",
    "\n",
    "install('BeautifulSoup4')\n",
    "install('webhoseio')\n",
    "install('textblob')\n",
    "install('nltk')"
   ]
  },
  {
   "cell_type": "code",
   "execution_count": 2,
   "metadata": {
    "collapsed": true
   },
   "outputs": [],
   "source": [
    "#importing required packages\n",
    "import webhoseio\n",
    "import requests\n",
    "import numpy as np\n",
    "import pandas as pd\n",
    "import json\n",
    "import os\n",
    "import time\n",
    "import datetime"
   ]
  },
  {
   "cell_type": "code",
   "execution_count": 4,
   "metadata": {
    "collapsed": false
   },
   "outputs": [
    {
     "name": "stdout",
     "output_type": "stream",
     "text": [
      "C:\\Users\\prith\\Documents\\Python Scripts\\Final\n"
     ]
    }
   ],
   "source": [
    "#getting current working directory\n",
    "current_directory=os.getcwd()\n",
    "root_directory=os.path.abspath(os.path.join(current_directory, os.pardir)) #To get the parent directory of current directory\n",
    "#parent_directory=os.path.abspath(os.path.join(root_directory, os.pardir))\n",
    "print(root_directory)"
   ]
  },
  {
   "cell_type": "code",
   "execution_count": 5,
   "metadata": {
    "collapsed": false
   },
   "outputs": [],
   "source": [
    "path=root_directory+\"/Data/Processed Data/\""
   ]
  },
  {
   "cell_type": "code",
   "execution_count": 6,
   "metadata": {
    "collapsed": false
   },
   "outputs": [],
   "source": [
    "processeddf=pd.read_csv(path+\"PocessedData.csv\",encoding = \"ISO-8859-1\")"
   ]
  },
  {
   "cell_type": "code",
   "execution_count": null,
   "metadata": {
    "collapsed": false
   },
   "outputs": [],
   "source": [
    "#term frequency–inverse document frequency\n",
    "import math\n",
    "from textblob import TextBlob as tb\n",
    "\n",
    "def tf(word, blob):\n",
    "    return blob.words.count(word) / len(blob.words)\n",
    "\n",
    "def n_containing(word, bloblist):\n",
    "    return sum(1 for blob in bloblist if word in blob.words)\n",
    "\n",
    "def idf(word, bloblist):\n",
    "    return math.log(len(bloblist) / (1 + n_containing(word, bloblist)))\n",
    "\n",
    "def tfidf(word, blob, bloblist):\n",
    "    return tf(word, blob) * idf(word, bloblist)"
   ]
  },
  {
   "cell_type": "code",
   "execution_count": null,
   "metadata": {
    "collapsed": true
   },
   "outputs": [],
   "source": [
    "import string\n",
    "from nltk.corpus import stopwords\n",
    "\n",
    "def RemoveStopWords(text):\n",
    "    # Check characters to see if they are in punctuation\n",
    "    nopunc = [char for char in text if char not in string.punctuation]\n",
    "\n",
    "    # Join the characters again to form the string.\n",
    "    nopunc = ''.join(nopunc)\n",
    "    \n",
    "    # Now just remove any stopwords\n",
    "    nonstop_list=[word for word in nopunc.split() if word.lower() not in stopwords.words('english')]\n",
    "    \n",
    "    nonstopstring=' '.join(nonstop_list)\n",
    "    return nonstopstring"
   ]
  },
  {
   "cell_type": "code",
   "execution_count": null,
   "metadata": {
    "collapsed": true
   },
   "outputs": [],
   "source": [
    "tfdf=pd.DataFrame()\n",
    "tfdf[\"text\"]=processeddf['text'].apply(RemoveStopWords)"
   ]
  },
  {
   "cell_type": "code",
   "execution_count": null,
   "metadata": {
    "collapsed": true
   },
   "outputs": [],
   "source": [
    "bloblist=[tb(t) for t in tfdf[\"text\"].values]\n",
    "#result=pd.DataFrame()\n",
    "result = pd.DataFrame(columns=('Document Number', 'Word', 'TF-IDF score'))"
   ]
  },
  {
   "cell_type": "code",
   "execution_count": null,
   "metadata": {
    "collapsed": true
   },
   "outputs": [],
   "source": [
    "from nltk.corpus import stopwords\n",
    "result = pd.DataFrame(columns=('Document Number', 'Word', 'TF-IDF score'))\n",
    "result_list = []\n",
    "for i, blob in enumerate(bloblist):\n",
    "    scores = {word: tfidf(word, blob, bloblist) for word in blob.words}\n",
    "    sorted_words = sorted(scores.items(), key=lambda x: x[1], reverse=True)\n",
    "    for word, score in sorted_words[:1]:\n",
    "        result3 = pd.DataFrame([[i+1,word,round(score, 5)]],columns=[\"Document Number\",\"Word\",\"TF-TDF score\"])\n",
    "        result_list.append(result3)\n",
    "result = pd.concat(result_list)\n",
    "print(\"tf-idf has been implemented\")"
   ]
  },
  {
   "cell_type": "code",
   "execution_count": 8,
   "metadata": {
    "collapsed": true
   },
   "outputs": [],
   "source": [
    "#Check if a directory exists in the path or not;if not create one\n",
    "def dir(file_path,directory_name):\n",
    "    if not os.path.exists(file_path+\"/\"+directory_name):\n",
    "        os.mkdir(file_path+\"/\"+directory_name)\n",
    "    return file_path+\"/\"+directory_name"
   ]
  },
  {
   "cell_type": "code",
   "execution_count": 9,
   "metadata": {
    "collapsed": true
   },
   "outputs": [],
   "source": [
    "output_directory=dir(current_directory,\"Analysis 1\") #Create Analysis 1 folder to save output in Analysis."
   ]
  },
  {
   "cell_type": "code",
   "execution_count": null,
   "metadata": {
    "collapsed": true
   },
   "outputs": [],
   "source": [
    "#Savinf result of first analysis in Output forlder\n",
    "result[0:50].to_csv(output_directory+\"/Analysis1.csv\")"
   ]
  },
  {
   "cell_type": "code",
   "execution_count": null,
   "metadata": {
    "collapsed": true
   },
   "outputs": [],
   "source": []
  }
 ],
 "metadata": {
  "kernelspec": {
   "display_name": "Python [default]",
   "language": "python",
   "name": "python3"
  },
  "language_info": {
   "codemirror_mode": {
    "name": "ipython",
    "version": 3
   },
   "file_extension": ".py",
   "mimetype": "text/x-python",
   "name": "python",
   "nbconvert_exporter": "python",
   "pygments_lexer": "ipython3",
   "version": "3.5.2"
  }
 },
 "nbformat": 4,
 "nbformat_minor": 1
}
